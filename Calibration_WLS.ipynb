{
 "cells": [
  {
   "cell_type": "markdown",
   "id": "f8eaa698",
   "metadata": {},
   "source": [
    ":')"
   ]
  },
  {
   "cell_type": "code",
   "execution_count": 1,
   "id": "91667e2a",
   "metadata": {},
   "outputs": [
    {
     "data": {
      "text/plain": [
       "30"
      ]
     },
     "execution_count": 1,
     "metadata": {},
     "output_type": "execute_result"
    }
   ],
   "source": [
    "import numpy as np\n",
    "import pandas as pd\n",
    "import scipy.stats as sp\n",
    "\n",
    "Run = 10000 #number of sample\n",
    "R = 10 # range ratio\n",
    "CV = [3, 3 ,3 ,3 ,3]# CV%\n",
    "fixed_bias = 0.05\n",
    "propo_bias = 1\n",
    "mean = [30, 150, 300, 1500, 3000]\n",
    "cali_conc = [10, 50, 100, 500, 1000]\n",
    "N = len(mean)\n",
    "mean[0]"
   ]
  },
  {
   "cell_type": "code",
   "execution_count": 3,
   "id": "8bfbb0a6",
   "metadata": {},
   "outputs": [
    {
     "data": {
      "text/html": [
       "<div>\n",
       "<style scoped>\n",
       "    .dataframe tbody tr th:only-of-type {\n",
       "        vertical-align: middle;\n",
       "    }\n",
       "\n",
       "    .dataframe tbody tr th {\n",
       "        vertical-align: top;\n",
       "    }\n",
       "\n",
       "    .dataframe thead th {\n",
       "        text-align: right;\n",
       "    }\n",
       "</style>\n",
       "<table border=\"1\" class=\"dataframe\">\n",
       "  <thead>\n",
       "    <tr style=\"text-align: right;\">\n",
       "      <th></th>\n",
       "      <th>0</th>\n",
       "      <th>1</th>\n",
       "      <th>2</th>\n",
       "      <th>3</th>\n",
       "      <th>4</th>\n",
       "    </tr>\n",
       "  </thead>\n",
       "  <tbody>\n",
       "    <tr>\n",
       "      <th>0</th>\n",
       "      <td>NaN</td>\n",
       "      <td>NaN</td>\n",
       "      <td>NaN</td>\n",
       "      <td>NaN</td>\n",
       "      <td>NaN</td>\n",
       "    </tr>\n",
       "    <tr>\n",
       "      <th>1</th>\n",
       "      <td>NaN</td>\n",
       "      <td>NaN</td>\n",
       "      <td>NaN</td>\n",
       "      <td>NaN</td>\n",
       "      <td>NaN</td>\n",
       "    </tr>\n",
       "    <tr>\n",
       "      <th>2</th>\n",
       "      <td>NaN</td>\n",
       "      <td>NaN</td>\n",
       "      <td>NaN</td>\n",
       "      <td>NaN</td>\n",
       "      <td>NaN</td>\n",
       "    </tr>\n",
       "    <tr>\n",
       "      <th>3</th>\n",
       "      <td>NaN</td>\n",
       "      <td>NaN</td>\n",
       "      <td>NaN</td>\n",
       "      <td>NaN</td>\n",
       "      <td>NaN</td>\n",
       "    </tr>\n",
       "    <tr>\n",
       "      <th>4</th>\n",
       "      <td>NaN</td>\n",
       "      <td>NaN</td>\n",
       "      <td>NaN</td>\n",
       "      <td>NaN</td>\n",
       "      <td>NaN</td>\n",
       "    </tr>\n",
       "    <tr>\n",
       "      <th>...</th>\n",
       "      <td>...</td>\n",
       "      <td>...</td>\n",
       "      <td>...</td>\n",
       "      <td>...</td>\n",
       "      <td>...</td>\n",
       "    </tr>\n",
       "    <tr>\n",
       "      <th>9995</th>\n",
       "      <td>NaN</td>\n",
       "      <td>NaN</td>\n",
       "      <td>NaN</td>\n",
       "      <td>NaN</td>\n",
       "      <td>NaN</td>\n",
       "    </tr>\n",
       "    <tr>\n",
       "      <th>9996</th>\n",
       "      <td>NaN</td>\n",
       "      <td>NaN</td>\n",
       "      <td>NaN</td>\n",
       "      <td>NaN</td>\n",
       "      <td>NaN</td>\n",
       "    </tr>\n",
       "    <tr>\n",
       "      <th>9997</th>\n",
       "      <td>NaN</td>\n",
       "      <td>NaN</td>\n",
       "      <td>NaN</td>\n",
       "      <td>NaN</td>\n",
       "      <td>NaN</td>\n",
       "    </tr>\n",
       "    <tr>\n",
       "      <th>9998</th>\n",
       "      <td>NaN</td>\n",
       "      <td>NaN</td>\n",
       "      <td>NaN</td>\n",
       "      <td>NaN</td>\n",
       "      <td>NaN</td>\n",
       "    </tr>\n",
       "    <tr>\n",
       "      <th>9999</th>\n",
       "      <td>NaN</td>\n",
       "      <td>NaN</td>\n",
       "      <td>NaN</td>\n",
       "      <td>NaN</td>\n",
       "      <td>NaN</td>\n",
       "    </tr>\n",
       "  </tbody>\n",
       "</table>\n",
       "<p>10000 rows × 5 columns</p>\n",
       "</div>"
      ],
      "text/plain": [
       "        0    1    2    3    4\n",
       "0     NaN  NaN  NaN  NaN  NaN\n",
       "1     NaN  NaN  NaN  NaN  NaN\n",
       "2     NaN  NaN  NaN  NaN  NaN\n",
       "3     NaN  NaN  NaN  NaN  NaN\n",
       "4     NaN  NaN  NaN  NaN  NaN\n",
       "...   ...  ...  ...  ...  ...\n",
       "9995  NaN  NaN  NaN  NaN  NaN\n",
       "9996  NaN  NaN  NaN  NaN  NaN\n",
       "9997  NaN  NaN  NaN  NaN  NaN\n",
       "9998  NaN  NaN  NaN  NaN  NaN\n",
       "9999  NaN  NaN  NaN  NaN  NaN\n",
       "\n",
       "[10000 rows x 5 columns]"
      ]
     },
     "execution_count": 3,
     "metadata": {},
     "output_type": "execute_result"
    }
   ],
   "source": [
    "X = pd.DataFrame(index=range(Run),columns=range(N))\n",
    "W = pd.DataFrame(index=range(Run),columns=range(N))\n",
    "W"
   ]
  },
  {
   "cell_type": "code",
   "execution_count": 4,
   "id": "2bbdc42a",
   "metadata": {},
   "outputs": [
    {
     "data": {
      "text/html": [
       "<div>\n",
       "<style scoped>\n",
       "    .dataframe tbody tr th:only-of-type {\n",
       "        vertical-align: middle;\n",
       "    }\n",
       "\n",
       "    .dataframe tbody tr th {\n",
       "        vertical-align: top;\n",
       "    }\n",
       "\n",
       "    .dataframe thead th {\n",
       "        text-align: right;\n",
       "    }\n",
       "</style>\n",
       "<table border=\"1\" class=\"dataframe\">\n",
       "  <thead>\n",
       "    <tr style=\"text-align: right;\">\n",
       "      <th></th>\n",
       "      <th>0</th>\n",
       "      <th>1</th>\n",
       "      <th>2</th>\n",
       "      <th>3</th>\n",
       "      <th>4</th>\n",
       "    </tr>\n",
       "  </thead>\n",
       "  <tbody>\n",
       "    <tr>\n",
       "      <th>0</th>\n",
       "      <td>0.001111</td>\n",
       "      <td>0.000044</td>\n",
       "      <td>0.000011</td>\n",
       "      <td>4.444444e-07</td>\n",
       "      <td>1.111111e-07</td>\n",
       "    </tr>\n",
       "    <tr>\n",
       "      <th>1</th>\n",
       "      <td>0.001111</td>\n",
       "      <td>0.000044</td>\n",
       "      <td>0.000011</td>\n",
       "      <td>4.444444e-07</td>\n",
       "      <td>1.111111e-07</td>\n",
       "    </tr>\n",
       "    <tr>\n",
       "      <th>2</th>\n",
       "      <td>0.001111</td>\n",
       "      <td>0.000044</td>\n",
       "      <td>0.000011</td>\n",
       "      <td>4.444444e-07</td>\n",
       "      <td>1.111111e-07</td>\n",
       "    </tr>\n",
       "    <tr>\n",
       "      <th>3</th>\n",
       "      <td>0.001111</td>\n",
       "      <td>0.000044</td>\n",
       "      <td>0.000011</td>\n",
       "      <td>4.444444e-07</td>\n",
       "      <td>1.111111e-07</td>\n",
       "    </tr>\n",
       "    <tr>\n",
       "      <th>4</th>\n",
       "      <td>0.001111</td>\n",
       "      <td>0.000044</td>\n",
       "      <td>0.000011</td>\n",
       "      <td>4.444444e-07</td>\n",
       "      <td>1.111111e-07</td>\n",
       "    </tr>\n",
       "    <tr>\n",
       "      <th>...</th>\n",
       "      <td>...</td>\n",
       "      <td>...</td>\n",
       "      <td>...</td>\n",
       "      <td>...</td>\n",
       "      <td>...</td>\n",
       "    </tr>\n",
       "    <tr>\n",
       "      <th>9995</th>\n",
       "      <td>0.001111</td>\n",
       "      <td>0.000044</td>\n",
       "      <td>0.000011</td>\n",
       "      <td>4.444444e-07</td>\n",
       "      <td>1.111111e-07</td>\n",
       "    </tr>\n",
       "    <tr>\n",
       "      <th>9996</th>\n",
       "      <td>0.001111</td>\n",
       "      <td>0.000044</td>\n",
       "      <td>0.000011</td>\n",
       "      <td>4.444444e-07</td>\n",
       "      <td>1.111111e-07</td>\n",
       "    </tr>\n",
       "    <tr>\n",
       "      <th>9997</th>\n",
       "      <td>0.001111</td>\n",
       "      <td>0.000044</td>\n",
       "      <td>0.000011</td>\n",
       "      <td>4.444444e-07</td>\n",
       "      <td>1.111111e-07</td>\n",
       "    </tr>\n",
       "    <tr>\n",
       "      <th>9998</th>\n",
       "      <td>0.001111</td>\n",
       "      <td>0.000044</td>\n",
       "      <td>0.000011</td>\n",
       "      <td>4.444444e-07</td>\n",
       "      <td>1.111111e-07</td>\n",
       "    </tr>\n",
       "    <tr>\n",
       "      <th>9999</th>\n",
       "      <td>0.001111</td>\n",
       "      <td>0.000044</td>\n",
       "      <td>0.000011</td>\n",
       "      <td>4.444444e-07</td>\n",
       "      <td>1.111111e-07</td>\n",
       "    </tr>\n",
       "  </tbody>\n",
       "</table>\n",
       "<p>10000 rows × 5 columns</p>\n",
       "</div>"
      ],
      "text/plain": [
       "             0         1         2             3             4\n",
       "0     0.001111  0.000044  0.000011  4.444444e-07  1.111111e-07\n",
       "1     0.001111  0.000044  0.000011  4.444444e-07  1.111111e-07\n",
       "2     0.001111  0.000044  0.000011  4.444444e-07  1.111111e-07\n",
       "3     0.001111  0.000044  0.000011  4.444444e-07  1.111111e-07\n",
       "4     0.001111  0.000044  0.000011  4.444444e-07  1.111111e-07\n",
       "...        ...       ...       ...           ...           ...\n",
       "9995  0.001111  0.000044  0.000011  4.444444e-07  1.111111e-07\n",
       "9996  0.001111  0.000044  0.000011  4.444444e-07  1.111111e-07\n",
       "9997  0.001111  0.000044  0.000011  4.444444e-07  1.111111e-07\n",
       "9998  0.001111  0.000044  0.000011  4.444444e-07  1.111111e-07\n",
       "9999  0.001111  0.000044  0.000011  4.444444e-07  1.111111e-07\n",
       "\n",
       "[10000 rows x 5 columns]"
      ]
     },
     "execution_count": 4,
     "metadata": {},
     "output_type": "execute_result"
    }
   ],
   "source": [
    "for i in range(0,N):\n",
    "    X[i] = cali_conc[i]\n",
    "    W[i] = 1/(mean[i]**2)\n",
    "W"
   ]
  },
  {
   "cell_type": "code",
   "execution_count": 10,
   "id": "a8d0e0b6",
   "metadata": {},
   "outputs": [
    {
     "data": {
      "text/html": [
       "<div>\n",
       "<style scoped>\n",
       "    .dataframe tbody tr th:only-of-type {\n",
       "        vertical-align: middle;\n",
       "    }\n",
       "\n",
       "    .dataframe tbody tr th {\n",
       "        vertical-align: top;\n",
       "    }\n",
       "\n",
       "    .dataframe thead th {\n",
       "        text-align: right;\n",
       "    }\n",
       "</style>\n",
       "<table border=\"1\" class=\"dataframe\">\n",
       "  <thead>\n",
       "    <tr style=\"text-align: right;\">\n",
       "      <th></th>\n",
       "      <th>0</th>\n",
       "      <th>1</th>\n",
       "      <th>2</th>\n",
       "      <th>3</th>\n",
       "      <th>4</th>\n",
       "    </tr>\n",
       "  </thead>\n",
       "  <tbody>\n",
       "    <tr>\n",
       "      <th>0</th>\n",
       "      <td>31.303964</td>\n",
       "      <td>151.775522</td>\n",
       "      <td>278.481747</td>\n",
       "      <td>1560.996740</td>\n",
       "      <td>2909.808967</td>\n",
       "    </tr>\n",
       "    <tr>\n",
       "      <th>1</th>\n",
       "      <td>30.645240</td>\n",
       "      <td>157.053620</td>\n",
       "      <td>288.776272</td>\n",
       "      <td>1527.564262</td>\n",
       "      <td>2998.627885</td>\n",
       "    </tr>\n",
       "    <tr>\n",
       "      <th>2</th>\n",
       "      <td>30.157587</td>\n",
       "      <td>152.374591</td>\n",
       "      <td>306.953263</td>\n",
       "      <td>1501.623791</td>\n",
       "      <td>2971.408824</td>\n",
       "    </tr>\n",
       "    <tr>\n",
       "      <th>3</th>\n",
       "      <td>29.294500</td>\n",
       "      <td>155.528906</td>\n",
       "      <td>294.391825</td>\n",
       "      <td>1536.751599</td>\n",
       "      <td>2974.480450</td>\n",
       "    </tr>\n",
       "    <tr>\n",
       "      <th>4</th>\n",
       "      <td>28.749389</td>\n",
       "      <td>151.771018</td>\n",
       "      <td>321.430530</td>\n",
       "      <td>1514.805508</td>\n",
       "      <td>2949.034921</td>\n",
       "    </tr>\n",
       "    <tr>\n",
       "      <th>...</th>\n",
       "      <td>...</td>\n",
       "      <td>...</td>\n",
       "      <td>...</td>\n",
       "      <td>...</td>\n",
       "      <td>...</td>\n",
       "    </tr>\n",
       "    <tr>\n",
       "      <th>9995</th>\n",
       "      <td>30.217156</td>\n",
       "      <td>149.962458</td>\n",
       "      <td>297.725521</td>\n",
       "      <td>1515.573688</td>\n",
       "      <td>2991.234861</td>\n",
       "    </tr>\n",
       "    <tr>\n",
       "      <th>9996</th>\n",
       "      <td>30.505705</td>\n",
       "      <td>154.880288</td>\n",
       "      <td>304.430716</td>\n",
       "      <td>1529.207816</td>\n",
       "      <td>3022.932097</td>\n",
       "    </tr>\n",
       "    <tr>\n",
       "      <th>9997</th>\n",
       "      <td>28.861943</td>\n",
       "      <td>146.676815</td>\n",
       "      <td>294.875895</td>\n",
       "      <td>1440.252590</td>\n",
       "      <td>3075.493057</td>\n",
       "    </tr>\n",
       "    <tr>\n",
       "      <th>9998</th>\n",
       "      <td>29.960822</td>\n",
       "      <td>145.341227</td>\n",
       "      <td>313.689268</td>\n",
       "      <td>1499.862525</td>\n",
       "      <td>3019.678224</td>\n",
       "    </tr>\n",
       "    <tr>\n",
       "      <th>9999</th>\n",
       "      <td>30.566322</td>\n",
       "      <td>144.312038</td>\n",
       "      <td>291.596202</td>\n",
       "      <td>1475.578158</td>\n",
       "      <td>2906.879744</td>\n",
       "    </tr>\n",
       "  </tbody>\n",
       "</table>\n",
       "<p>10000 rows × 5 columns</p>\n",
       "</div>"
      ],
      "text/plain": [
       "              0           1           2            3            4\n",
       "0     31.303964  151.775522  278.481747  1560.996740  2909.808967\n",
       "1     30.645240  157.053620  288.776272  1527.564262  2998.627885\n",
       "2     30.157587  152.374591  306.953263  1501.623791  2971.408824\n",
       "3     29.294500  155.528906  294.391825  1536.751599  2974.480450\n",
       "4     28.749389  151.771018  321.430530  1514.805508  2949.034921\n",
       "...         ...         ...         ...          ...          ...\n",
       "9995  30.217156  149.962458  297.725521  1515.573688  2991.234861\n",
       "9996  30.505705  154.880288  304.430716  1529.207816  3022.932097\n",
       "9997  28.861943  146.676815  294.875895  1440.252590  3075.493057\n",
       "9998  29.960822  145.341227  313.689268  1499.862525  3019.678224\n",
       "9999  30.566322  144.312038  291.596202  1475.578158  2906.879744\n",
       "\n",
       "[10000 rows x 5 columns]"
      ]
     },
     "execution_count": 10,
     "metadata": {},
     "output_type": "execute_result"
    }
   ],
   "source": [
    "Y = pd.DataFrame(index=range(Run),columns=range(N))\n",
    "for i in range(0,N):\n",
    "    Y[i] = np.random.normal(mean[i],mean[i]*(CV[i]/100),Run)\n",
    "Y"
   ]
  },
  {
   "cell_type": "code",
   "execution_count": 13,
   "id": "28027fa7",
   "metadata": {},
   "outputs": [
    {
     "data": {
      "text/html": [
       "<div>\n",
       "<style scoped>\n",
       "    .dataframe tbody tr th:only-of-type {\n",
       "        vertical-align: middle;\n",
       "    }\n",
       "\n",
       "    .dataframe tbody tr th {\n",
       "        vertical-align: top;\n",
       "    }\n",
       "\n",
       "    .dataframe thead th {\n",
       "        text-align: right;\n",
       "    }\n",
       "</style>\n",
       "<table border=\"1\" class=\"dataframe\">\n",
       "  <thead>\n",
       "    <tr style=\"text-align: right;\">\n",
       "      <th></th>\n",
       "      <th>0</th>\n",
       "      <th>1</th>\n",
       "      <th>2</th>\n",
       "      <th>3</th>\n",
       "      <th>4</th>\n",
       "    </tr>\n",
       "  </thead>\n",
       "  <tbody>\n",
       "    <tr>\n",
       "      <th>0</th>\n",
       "      <td>0.007866</td>\n",
       "      <td>0.061966</td>\n",
       "      <td>0.084757</td>\n",
       "      <td>0.105555</td>\n",
       "      <td>0.108315</td>\n",
       "    </tr>\n",
       "    <tr>\n",
       "      <th>1</th>\n",
       "      <td>0.007866</td>\n",
       "      <td>0.061966</td>\n",
       "      <td>0.084757</td>\n",
       "      <td>0.105555</td>\n",
       "      <td>0.108315</td>\n",
       "    </tr>\n",
       "    <tr>\n",
       "      <th>2</th>\n",
       "      <td>0.007866</td>\n",
       "      <td>0.061966</td>\n",
       "      <td>0.084757</td>\n",
       "      <td>0.105555</td>\n",
       "      <td>0.108315</td>\n",
       "    </tr>\n",
       "    <tr>\n",
       "      <th>3</th>\n",
       "      <td>0.007866</td>\n",
       "      <td>0.061966</td>\n",
       "      <td>0.084757</td>\n",
       "      <td>0.105555</td>\n",
       "      <td>0.108315</td>\n",
       "    </tr>\n",
       "    <tr>\n",
       "      <th>4</th>\n",
       "      <td>0.007866</td>\n",
       "      <td>0.061966</td>\n",
       "      <td>0.084757</td>\n",
       "      <td>0.105555</td>\n",
       "      <td>0.108315</td>\n",
       "    </tr>\n",
       "  </tbody>\n",
       "</table>\n",
       "</div>"
      ],
      "text/plain": [
       "          0         1         2         3         4\n",
       "0  0.007866  0.061966  0.084757  0.105555  0.108315\n",
       "1  0.007866  0.061966  0.084757  0.105555  0.108315\n",
       "2  0.007866  0.061966  0.084757  0.105555  0.108315\n",
       "3  0.007866  0.061966  0.084757  0.105555  0.108315\n",
       "4  0.007866  0.061966  0.084757  0.105555  0.108315"
      ]
     },
     "execution_count": 13,
     "metadata": {},
     "output_type": "execute_result"
    }
   ],
   "source": [
    "X_bar = (X*W).sum(axis=1)/W.sum(axis=1) #Xmw\n",
    "\n",
    "Y_bar = (Y*W).sum(axis=1)/W.sum(axis=1) #Ymw\n",
    "\n",
    "SS_X = pd.DataFrame(index=range(Run),columns=range(N))\n",
    "for i in range(0,N):\n",
    "    SS_X[i] = W[i]*(X[i]-X_bar)**2\n",
    "SS_X.head()"
   ]
  },
  {
   "cell_type": "code",
   "execution_count": 14,
   "id": "66fafc3d",
   "metadata": {},
   "outputs": [
    {
     "data": {
      "text/plain": [
       "0       2.949864\n",
       "1       3.012826\n",
       "2       3.020186\n",
       "3       3.029798\n",
       "4       3.067983\n",
       "          ...   \n",
       "9995    2.998643\n",
       "9996    3.053590\n",
       "9997    2.968023\n",
       "9998    3.021164\n",
       "9999    2.905623\n",
       "Length: 10000, dtype: float64"
      ]
     },
     "execution_count": 14,
     "metadata": {},
     "output_type": "execute_result"
    }
   ],
   "source": [
    "SSX_sum = SS_X.sum(axis=1) #Uw\n",
    "SS_Y = pd.DataFrame(index=range(Run),columns=range(N))\n",
    "for i in range(0,N):\n",
    "    SS_Y[i] = W[i]*(Y[i]-Y_bar)**2\n",
    "SSY_sum = SS_Y.sum(axis=1) #Qw\n",
    "SS_XY = pd.DataFrame(index=range(Run),columns=range(N))\n",
    "for i in range(0,N):\n",
    "    SS_XY[i] = W[i]*(X[i]-X_bar)*(Y[i]-Y_bar)\n",
    "SSXY_sum = SS_XY.sum(axis=1) #Pw\n",
    "b = SSXY_sum/SSX_sum #b\n",
    "b"
   ]
  },
  {
   "cell_type": "code",
   "execution_count": 15,
   "id": "4aed6f06",
   "metadata": {},
   "outputs": [
    {
     "ename": "NameError",
     "evalue": "name 'b_hat' is not defined",
     "output_type": "error",
     "traceback": [
      "\u001b[1;31m---------------------------------------------------------------------------\u001b[0m",
      "\u001b[1;31mNameError\u001b[0m                                 Traceback (most recent call last)",
      "\u001b[1;32m<ipython-input-15-3e7575ff463c>\u001b[0m in \u001b[0;36m<module>\u001b[1;34m\u001b[0m\n\u001b[1;32m----> 1\u001b[1;33m \u001b[0ma\u001b[0m \u001b[1;33m=\u001b[0m \u001b[0mY_bar\u001b[0m \u001b[1;33m-\u001b[0m \u001b[0mb_hat\u001b[0m\u001b[1;33m*\u001b[0m\u001b[0mX_bar\u001b[0m \u001b[1;31m#a0\u001b[0m\u001b[1;33m\u001b[0m\u001b[1;33m\u001b[0m\u001b[0m\n\u001b[0m\u001b[0;32m      2\u001b[0m \u001b[0ma\u001b[0m\u001b[1;33m\u001b[0m\u001b[1;33m\u001b[0m\u001b[0m\n",
      "\u001b[1;31mNameError\u001b[0m: name 'b_hat' is not defined"
     ]
    }
   ],
   "source": [
    "a = Y_bar - b_hat*X_bar #a0\n",
    "a"
   ]
  },
  {
   "cell_type": "code",
   "execution_count": 9,
   "id": "385bea4b",
   "metadata": {},
   "outputs": [
    {
     "data": {
      "text/html": [
       "<div>\n",
       "<style scoped>\n",
       "    .dataframe tbody tr th:only-of-type {\n",
       "        vertical-align: middle;\n",
       "    }\n",
       "\n",
       "    .dataframe tbody tr th {\n",
       "        vertical-align: top;\n",
       "    }\n",
       "\n",
       "    .dataframe thead th {\n",
       "        text-align: right;\n",
       "    }\n",
       "</style>\n",
       "<table border=\"1\" class=\"dataframe\">\n",
       "  <thead>\n",
       "    <tr style=\"text-align: right;\">\n",
       "      <th></th>\n",
       "      <th>0</th>\n",
       "      <th>1</th>\n",
       "      <th>2</th>\n",
       "    </tr>\n",
       "  </thead>\n",
       "  <tbody>\n",
       "    <tr>\n",
       "      <th>0</th>\n",
       "      <td>58.827124</td>\n",
       "      <td>445.329551</td>\n",
       "      <td>1781.591718</td>\n",
       "    </tr>\n",
       "    <tr>\n",
       "      <th>1</th>\n",
       "      <td>60.537414</td>\n",
       "      <td>427.512626</td>\n",
       "      <td>1717.598730</td>\n",
       "    </tr>\n",
       "    <tr>\n",
       "      <th>2</th>\n",
       "      <td>58.804242</td>\n",
       "      <td>456.371885</td>\n",
       "      <td>1771.050652</td>\n",
       "    </tr>\n",
       "    <tr>\n",
       "      <th>3</th>\n",
       "      <td>61.054633</td>\n",
       "      <td>461.259386</td>\n",
       "      <td>1815.252638</td>\n",
       "    </tr>\n",
       "    <tr>\n",
       "      <th>4</th>\n",
       "      <td>62.765153</td>\n",
       "      <td>457.641648</td>\n",
       "      <td>1763.855230</td>\n",
       "    </tr>\n",
       "    <tr>\n",
       "      <th>...</th>\n",
       "      <td>...</td>\n",
       "      <td>...</td>\n",
       "      <td>...</td>\n",
       "    </tr>\n",
       "    <tr>\n",
       "      <th>9995</th>\n",
       "      <td>60.370029</td>\n",
       "      <td>446.516223</td>\n",
       "      <td>1748.688196</td>\n",
       "    </tr>\n",
       "    <tr>\n",
       "      <th>9996</th>\n",
       "      <td>61.485318</td>\n",
       "      <td>449.897241</td>\n",
       "      <td>1869.355447</td>\n",
       "    </tr>\n",
       "    <tr>\n",
       "      <th>9997</th>\n",
       "      <td>57.367473</td>\n",
       "      <td>453.855162</td>\n",
       "      <td>1755.763706</td>\n",
       "    </tr>\n",
       "    <tr>\n",
       "      <th>9998</th>\n",
       "      <td>60.084578</td>\n",
       "      <td>451.119482</td>\n",
       "      <td>1878.191397</td>\n",
       "    </tr>\n",
       "    <tr>\n",
       "      <th>9999</th>\n",
       "      <td>59.082971</td>\n",
       "      <td>448.394286</td>\n",
       "      <td>1851.085193</td>\n",
       "    </tr>\n",
       "  </tbody>\n",
       "</table>\n",
       "<p>10000 rows × 3 columns</p>\n",
       "</div>"
      ],
      "text/plain": [
       "              0           1            2\n",
       "0     58.827124  445.329551  1781.591718\n",
       "1     60.537414  427.512626  1717.598730\n",
       "2     58.804242  456.371885  1771.050652\n",
       "3     61.054633  461.259386  1815.252638\n",
       "4     62.765153  457.641648  1763.855230\n",
       "...         ...         ...          ...\n",
       "9995  60.370029  446.516223  1748.688196\n",
       "9996  61.485318  449.897241  1869.355447\n",
       "9997  57.367473  453.855162  1755.763706\n",
       "9998  60.084578  451.119482  1878.191397\n",
       "9999  59.082971  448.394286  1851.085193\n",
       "\n",
       "[10000 rows x 3 columns]"
      ]
     },
     "execution_count": 9,
     "metadata": {},
     "output_type": "execute_result"
    }
   ],
   "source": [
    "QC = [60, 450, 1800] #Doctor's method\n",
    "sample_mean_array = [20, 150, 600]\n",
    "QC_CV = [3, 3, 3] \n",
    "QC_N = len(QC)\n",
    "QC_df = pd.DataFrame(index=range(Run),columns=range(QC_N))\n",
    "for i in range(0,QC_N):\n",
    "    QC_df[i] = np.random.normal(QC[i],QC[i]*(QC_CV[i]/100),Run) #randomise 60/450/1800 not 20/150/600\n",
    "QC_runs = [5, 10, 15, 20, 25, 30]\n",
    "QC_df"
   ]
  },
  {
   "cell_type": "code",
   "execution_count": null,
   "id": "04bd2933",
   "metadata": {},
   "outputs": [],
   "source": [
    "QC = [20, 150, 600]                                #Prof Chun Yee's method\n",
    "sample_mean_array = [20, 150, 600]\n",
    "QC_CV = [3, 3, 3] \n",
    "QC_N = len(QC)\n",
    "QC_df = pd.DataFrame(index=range(Run),columns=range(QC_N))\n",
    "\n",
    "for i in range(0,QC_N):\n",
    "    QC_df[i] = np.random.normal((QC[i]*b + a),QC[i]*(QC_CV[i]/100),Run) #randomise 60/450/1800 not 20/150/600\n",
    "QC_runs = [5, 10, 15, 20, 25, 30]\n",
    "QC_df"
   ]
  },
  {
   "cell_type": "code",
   "execution_count": 10,
   "id": "30886448",
   "metadata": {},
   "outputs": [],
   "source": [
    "CV_percent = {}                      \n",
    "mean_20_percent = {}\n",
    "mean_150_percent = {}\n",
    "mean_600_percent = {}\n",
    "sd_20_percent = {}\n",
    "sd_150_percent = {}\n",
    "sd_600_percent = {}\n",
    "cv_20_percent = {}\n",
    "cv_150_percent = {}\n",
    "cv_600_percent = {}\n",
    "cv_percent = {}\n",
    "\n",
    "for z in QC_runs:\n",
    "    CV_percent[z] = pd.DataFrame(index=range(Run),columns=('a', 'b', '20', '150', '600'))\n",
    "    i = -1\n",
    "    for j in range(0,Run):\n",
    "        if j % z == 0:\n",
    "            i+=1\n",
    "        CV_percent[z]['a'].iloc[j]=a[i]\n",
    "        CV_percent[z]['b'].iloc[j]=b[i]\n",
    "        CV_percent[z]['20'].iloc[j]= ((QC_df[0].iloc[j]) - a[i]) / b[i]\n",
    "        CV_percent[z]['150'].iloc[j]= ((QC_df[1].iloc[j]) - a[i]) / b[i]\n",
    "        CV_percent[z]['600'].iloc[j]= ((QC_df[2].iloc[j]) - a[i]) / b[i]\n",
    "\n",
    "    mean_20_percent[z] = CV_percent[z]['20'].sum(axis=0)/Run #100 np.mean\n",
    "    mean_150_percent[z] = CV_percent[z]['150'].sum(axis=0)/Run\n",
    "    mean_600_percent[z] = CV_percent[z]['600'].sum(axis=0)/Run\n",
    "\n",
    "    sd_20_percent[z] = np.std(CV_percent[z]['20'])\n",
    "    sd_150_percent[z] = np.std(CV_percent[z]['150'])\n",
    "    sd_600_percent[z] = np.std(CV_percent[z]['600'])\n",
    "\n",
    "    cv_20_percent[z] = sd_20_percent[z]/mean_20_percent[z]\n",
    "    cv_150_percent[z] = sd_150_percent[z]/mean_150_percent[z]\n",
    "    cv_600_percent[z] = sd_600_percent[z]/mean_600_percent[z]   "
   ]
  },
  {
   "cell_type": "code",
   "execution_count": null,
   "id": "1be18483",
   "metadata": {},
   "outputs": [],
   "source": [
    "CV_percent[5]"
   ]
  },
  {
   "cell_type": "code",
   "execution_count": null,
   "id": "9b9e30f5",
   "metadata": {},
   "outputs": [],
   "source": [
    "mean_20_percent[5]"
   ]
  },
  {
   "cell_type": "code",
   "execution_count": null,
   "id": "07625e06",
   "metadata": {},
   "outputs": [],
   "source": [
    "sd_20_percent[5]"
   ]
  },
  {
   "cell_type": "code",
   "execution_count": null,
   "id": "c86c0b96",
   "metadata": {},
   "outputs": [],
   "source": [
    "cv_600_percent"
   ]
  },
  {
   "cell_type": "code",
   "execution_count": null,
   "id": "dec4014c",
   "metadata": {},
   "outputs": [],
   "source": [
    "histo_20 = plt.hist ((CV_percent[10]['20']), bins = 'auto', color = '#0504aa')"
   ]
  },
  {
   "cell_type": "code",
   "execution_count": 11,
   "id": "803e8dc8",
   "metadata": {
    "scrolled": true
   },
   "outputs": [
    {
     "data": {
      "text/plain": [
       "0.19000952109280553"
      ]
     },
     "execution_count": 11,
     "metadata": {},
     "output_type": "execute_result"
    },
    {
     "data": {
      "image/png": "[encoded data removed]",
      "text/plain": [
       "<Figure size 432x288 with 1 Axes>"
      ]
     },
     "metadata": {
      "needs_background": "light"
     },
     "output_type": "display_data"
    }
   ],
   "source": [
    "import matplotlib.pyplot as plt\n",
    "\n",
    "CV_value = [cv_20_percent[5], cv_20_percent[10],cv_20_percent[15], cv_20_percent[20], cv_20_percent[25], cv_20_percent[30]]\n",
    "\n",
    "plt.plot(QC_runs, CV_value)\n",
    "plt.xlabel('QC run per calibration')\n",
    "plt.ylabel('CV%')\n",
    "mean_cv = np.mean(CV_value)\n",
    "mean_cv"
   ]
  },
  {
   "cell_type": "code",
   "execution_count": 12,
   "id": "f9a3eab3",
   "metadata": {},
   "outputs": [
    {
     "data": {
      "text/plain": [
       "0.0344384629429371"
      ]
     },
     "execution_count": 12,
     "metadata": {},
     "output_type": "execute_result"
    },
    {
     "data": {
      "image/png": "[encoded data removed]",
      "text/plain": [
       "<Figure size 432x288 with 1 Axes>"
      ]
     },
     "metadata": {
      "needs_background": "light"
     },
     "output_type": "display_data"
    }
   ],
   "source": [
    "CV_value2 = [cv_150_percent[5], cv_150_percent[10],cv_150_percent[15], cv_150_percent[20], cv_150_percent[25], cv_150_percent[30]]\n",
    "\n",
    "plt.plot(QC_runs, CV_value2)\n",
    "plt.xlabel('QC run per calibration')\n",
    "plt.ylabel('CV%')\n",
    "mean_cv2 = np.mean(CV_value2)\n",
    "mean_cv2"
   ]
  },
  {
   "cell_type": "code",
   "execution_count": 13,
   "id": "02506242",
   "metadata": {},
   "outputs": [
    {
     "data": {
      "text/plain": [
       "0.03858320932927752"
      ]
     },
     "execution_count": 13,
     "metadata": {},
     "output_type": "execute_result"
    },
    {
     "data": {
      "image/png": "[encoded data removed]",
      "text/plain": [
       "<Figure size 432x288 with 1 Axes>"
      ]
     },
     "metadata": {
      "needs_background": "light"
     },
     "output_type": "display_data"
    }
   ],
   "source": [
    "CV_value3 = [cv_600_percent[5], cv_600_percent[10],cv_600_percent[15], cv_600_percent[20], cv_600_percent[25], cv_600_percent[30]]\n",
    "\n",
    "plt.plot(QC_runs, CV_value3)\n",
    "plt.xlabel('QC run per calibration')\n",
    "plt.ylabel('CV%')\n",
    "mean_cv3 = np.mean(CV_value3)\n",
    "mean_cv3"
   ]
  },
  {
   "cell_type": "code",
   "execution_count": null,
   "id": "1945efea",
   "metadata": {},
   "outputs": [],
   "source": [
    "mean_20_threesig"
   ]
  },
  {
   "cell_type": "code",
   "execution_count": 14,
   "id": "1d8dcd09",
   "metadata": {},
   "outputs": [
    {
     "data": {
      "text/plain": [
       "0.027552303918719448"
      ]
     },
     "execution_count": 14,
     "metadata": {},
     "output_type": "execute_result"
    },
    {
     "data": {
      "image/png": "[encoded data removed]",
      "text/plain": [
       "<Figure size 720x432 with 1 Axes>"
      ]
     },
     "metadata": {
      "needs_background": "light"
     },
     "output_type": "display_data"
    }
   ],
   "source": [
    "#do for 150 and 600 individually show CV of each 60,450,1800 #show representative figure PPT\n",
    "testRun = 10000\n",
    "# Create a sample dataset\n",
    "sample_dataset = QC_df[0] #60*noise\n",
    "\n",
    "# Create a list to store the sample groups means\n",
    "sample_x_bar = sample_mean_array[0]\n",
    "\n",
    "# Create a list to store the sample groups standard deviations\n",
    "sample_stddev = sample_mean_array[0]*mean_cv #Find mean_cv of the 20 range of 5,10,15\n",
    "\n",
    "UCL = sample_x_bar + 3 * sample_stddev\n",
    "LCL = sample_x_bar - 3 * sample_stddev\n",
    "reject_three_sigma = pd.DataFrame(index = range(testRun), columns = ['20'])\n",
    "three_sigma = pd.DataFrame(index=range(testRun),columns=('a', 'b', '20'))\n",
    "i = 0\n",
    "for j in range(0,testRun):\n",
    "    three_sigma['a'].iloc[j]=a[i]\n",
    "    three_sigma['b'].iloc[j]=b[i]\n",
    "    three_sigma['20'].iloc[j]= (QC_df[0].iloc[j]- a[i]) / b[i] \n",
    "    if ((three_sigma['20'].iloc[j]>UCL)|(three_sigma['20'].iloc[j]<LCL)):\n",
    "        i+=1\n",
    "        reject_three_sigma['20'].iloc[j] = three_sigma['20'].iloc[j]\n",
    "        \n",
    "mean_20_threesig = np.mean(three_sigma['20'])\n",
    "sd_20_threesig = np.std(three_sigma['20'])\n",
    "cv_20_threesig = sd_20_threesig / mean_20_threesig\n",
    "\n",
    "         \n",
    "\n",
    "    \n",
    "fig, ax = plt.subplots(figsize = (10, 6))\n",
    "plt.plot(three_sigma['20'], linestyle='-', marker='o', color='blue')\n",
    "plt.plot(reject_three_sigma['20'], linestyle='', marker='o', color='red')\n",
    "plt.axhline(y=sample_x_bar, color=\"black\", linestyle=\"-\")\n",
    "plt.axhline(y=UCL, color=\"red\", linestyle=\"--\")\n",
    "plt.axhline(y=LCL, color=\"red\", linestyle=\"--\")\n",
    "\n",
    "# plt.xlim(150,200)\n",
    "# # plt.ylim(30,90)\n",
    "left, right = ax.get_xlim()\n",
    "ax.text(right + 0.3, UCL, \"UCL = \" + str(\"{:.2f}\".format(UCL)), color='red')\n",
    "ax.text(right + 0.3, sample_x_bar, r'$\\bar{x}$' + \" = \" + str(\"{:.2f}\".format(sample_x_bar)), color='green')\n",
    "ax.text(right + 0.3, LCL, \"LCL = \" + str(\"{:.2f}\".format(LCL)), color='red')\n",
    "cv_20_threesig"
   ]
  },
  {
   "cell_type": "code",
   "execution_count": null,
   "id": "8e27d731",
   "metadata": {},
   "outputs": [],
   "source": [
    " three_sigma"
   ]
  },
  {
   "cell_type": "code",
   "execution_count": null,
   "id": "30ba337d",
   "metadata": {},
   "outputs": [],
   "source": [
    "three_sigma[170:201]"
   ]
  },
  {
   "cell_type": "code",
   "execution_count": 32,
   "id": "2ff85ea6",
   "metadata": {},
   "outputs": [
    {
     "data": {
      "text/plain": [
       "0.030333676020107777"
      ]
     },
     "execution_count": 32,
     "metadata": {},
     "output_type": "execute_result"
    },
    {
     "data": {
      "image/png": "[encoded data removed]",
      "text/plain": [
       "<Figure size 720x432 with 1 Axes>"
      ]
     },
     "metadata": {
      "needs_background": "light"
     },
     "output_type": "display_data"
    }
   ],
   "source": [
    "#do for 150 and 600 individually show CV of each 60,450,1800 \n",
    "testRun = 10000\n",
    "# Create a sample dataset\n",
    "sample_dataset = QC_df[1]\n",
    "\n",
    "# Create a list to store the sample groups means\n",
    "sample_x_bar = sample_mean_array[1]\n",
    "\n",
    "# Create a list to store the sample groups standard deviations\n",
    "sample_stddev = sample_mean_array[1]*mean_cv2 #Find mean_cv of the 20 range of 5,10,15\n",
    "\n",
    "UCL = sample_x_bar + 3 * sample_stddev\n",
    "LCL = sample_x_bar - 3 * sample_stddev\n",
    "reject_three_sigma = pd.DataFrame(index = range(testRun), columns = ['150'])\n",
    "three_sigma = pd.DataFrame(index=range(testRun),columns=('a', 'b', '150'))\n",
    "i = 0\n",
    "for j in range(0,testRun):\n",
    "    three_sigma['a'].iloc[j]=a[i]\n",
    "    three_sigma['b'].iloc[j]=b[i]\n",
    "    three_sigma['150'].iloc[j]= (QC_df[1].iloc[j]- a[i]) / b[i]\n",
    "    if ((three_sigma['150'].iloc[j]>UCL)|(three_sigma['150'].iloc[j]<LCL)):\n",
    "        i+=1\n",
    "        reject_three_sigma['150'].iloc[j] = three_sigma['150'].iloc[j]\n",
    "        \n",
    "mean_150_threesig = np.mean(three_sigma['150'])\n",
    "sd_150_threesig = np.std(three_sigma['150'])\n",
    "cv_150_threesig = sd_150_threesig / mean_150_threesig\n",
    "\n",
    "         \n",
    "\n",
    "    \n",
    "fig, ax = plt.subplots(figsize = (10, 6))\n",
    "plt.plot(three_sigma['150'], linestyle='-', marker='o', color='blue')\n",
    "plt.plot(reject_three_sigma['150'], linestyle='', marker='o', color='red')\n",
    "plt.axhline(y=sample_x_bar, color=\"black\", linestyle=\"-\")\n",
    "plt.axhline(y=UCL, color=\"red\", linestyle=\"--\")\n",
    "plt.axhline(y=LCL, color=\"red\", linestyle=\"--\")\n",
    "\n",
    "# plt.xlim(2500,2700)\n",
    "# plt.ylim(350,500)\n",
    "left, right = ax.get_xlim()\n",
    "ax.text(right + 0.3, UCL, \"UCL = \" + str(\"{:.2f}\".format(UCL)), color='red')\n",
    "ax.text(right + 0.3, sample_x_bar, r'$\\bar{x}$' + \" = \" + str(\"{:.2f}\".format(sample_x_bar)), color='green')\n",
    "ax.text(right + 0.3, LCL, \"LCL = \" + str(\"{:.2f}\".format(LCL)), color='red')\n",
    "cv_150_threesig"
   ]
  },
  {
   "cell_type": "code",
   "execution_count": null,
   "id": "2d67330e",
   "metadata": {},
   "outputs": [],
   "source": [
    "three_sigma[2550:2600]"
   ]
  },
  {
   "cell_type": "code",
   "execution_count": 30,
   "id": "6541f6d1",
   "metadata": {},
   "outputs": [
    {
     "data": {
      "text/plain": [
       "0.0318708886674729"
      ]
     },
     "execution_count": 30,
     "metadata": {},
     "output_type": "execute_result"
    },
    {
     "data": {
      "image/png": "[encoded data removed]",
      "text/plain": [
       "<Figure size 720x432 with 1 Axes>"
      ]
     },
     "metadata": {
      "needs_background": "light"
     },
     "output_type": "display_data"
    }
   ],
   "source": [
    "#do for 150 and 600 individually show CV of each 60,450,1800 \n",
    "testRun = 10000\n",
    "# Create a sample dataset\n",
    "sample_dataset = QC_df[2]\n",
    "\n",
    "# Create a list to store the sample groups means\n",
    "sample_x_bar = sample_mean_array[2]\n",
    "\n",
    "# Create a list to store the sample groups standard deviations\n",
    "sample_stddev = sample_mean_array[2]*mean_cv3 #Find mean_cv of the 20 range of 5,10,15\n",
    "\n",
    "UCL = sample_x_bar + 3 * sample_stddev\n",
    "LCL = sample_x_bar - 3 * sample_stddev\n",
    "reject_three_sigma = pd.DataFrame(index = range(testRun), columns = ['600'])\n",
    "three_sigma = pd.DataFrame(index=range(testRun),columns=('a', 'b', '600'))\n",
    "i = 0\n",
    "for j in range(0,testRun):\n",
    "    three_sigma['a'].iloc[j]=a[i]\n",
    "    three_sigma['b'].iloc[j]=b[i]\n",
    "    three_sigma['600'].iloc[j]= (QC_df[2].iloc[j]- a[i]) / b[i] \n",
    "    if ((three_sigma['600'].iloc[j]>UCL)|(three_sigma['600'].iloc[j]<LCL)):\n",
    "        i+=1\n",
    "        reject_three_sigma['600'].iloc[j] = three_sigma['600'].iloc[j]\n",
    "        \n",
    "mean_600_threesig = np.mean(three_sigma['600'])\n",
    "sd_600_threesig = np.std(three_sigma['600'])\n",
    "cv_600_threesig = sd_600_threesig / mean_600_threesig\n",
    "\n",
    "\n",
    "fig, ax = plt.subplots(figsize = (10, 6))\n",
    "plt.plot(three_sigma['600'], linestyle='-', marker='o', color='blue')\n",
    "plt.plot(reject_three_sigma['600'], linestyle='', marker='o', color='red')\n",
    "plt.axhline(y=sample_x_bar, color=\"black\", linestyle=\"-\")\n",
    "plt.axhline(y=UCL, color=\"red\", linestyle=\"--\")\n",
    "plt.axhline(y=LCL, color=\"red\", linestyle=\"--\")\n",
    "\n",
    "\n",
    "# plt.xlim(6100,6350)\n",
    "# plt.ylim(1600,2100)\n",
    "left, right = ax.get_xlim()\n",
    "ax.text(right + 0.3, UCL, \"UCL = \" + str(\"{:.2f}\".format(UCL)), color='red')\n",
    "ax.text(right + 0.3, sample_x_bar, r'$\\bar{x}$' + \" = \" + str(\"{:.2f}\".format(sample_x_bar)), color='green')\n",
    "ax.text(right + 0.3, LCL, \"LCL = \" + str(\"{:.2f}\".format(LCL)), color='red')\n",
    "cv_600_threesig"
   ]
  },
  {
   "cell_type": "code",
   "execution_count": null,
   "id": "5a235469",
   "metadata": {},
   "outputs": [],
   "source": [
    "three_sigma[6100:6150]"
   ]
  },
  {
   "cell_type": "code",
   "execution_count": null,
   "id": "ca171de8",
   "metadata": {},
   "outputs": [],
   "source": [
    "QC_df.iloc[0] "
   ]
  },
  {
   "cell_type": "code",
   "execution_count": null,
   "id": "5f534880",
   "metadata": {},
   "outputs": [],
   "source": [
    "testRun = 10000\n",
    "CV_value_stdev = [mean_cv, mean_cv2, mean_cv3]\n",
    "\n",
    "\n",
    "# Create a sample dataset\n",
    "sample_dataset = QC_df\n",
    "\n",
    "# Create a list to store the sample groups means\n",
    "sample_x_bar_20 = sample_mean_array[0]\n",
    "sample_x_bar_150 = sample_mean_array[1]\n",
    "sample_x_bar_600 = sample_mean_array[2]\n",
    "\n",
    "# Create a list to store the sample groups standard deviations\n",
    "sample_stddev_20 = sample_mean_array[0]*CV_value_stdev[0] #Find mean_cv of the 20 range of 5,10,15\n",
    "sample_stddev_150 = sample_mean_array[1]*CV_value_stdev[1] #Find mean_cv of the 20 range of 5,10,15\n",
    "sample_stddev_600 = sample_mean_array[2]*CV_value_stdev[2] #Find mean_cv of the 20 range of 5,10,15\n",
    "\n",
    "UCL_20 = sample_x_bar_20 + 3 * sample_stddev_20\n",
    "UCL_150 = sample_x_bar_150 + 3 * sample_stddev_150\n",
    "UCL_600 = sample_x_bar_600 + 3 * sample_stddev_600\n",
    "    \n",
    "LCL_20 = sample_x_bar_20 - 3 * sample_stddev_20\n",
    "LCL_150 = sample_x_bar_150 - 3 * sample_stddev_150\n",
    "LCL_600 = sample_x_bar_600 - 3 * sample_stddev_600\n",
    "\n",
    "reject_three_sigma = pd.DataFrame(index = range(testRun), columns = ('20','150','600'))\n",
    "three_sigma = pd.DataFrame(index=range(testRun),columns=('a', 'b', '20','150','600'))\n",
    "i = 0\n",
    "for j in range(0,testRun):\n",
    "    three_sigma['a'].iloc[j]=a[i]\n",
    "    three_sigma['b'].iloc[j]=b[i]\n",
    "    three_sigma['20'].iloc[j]= (QC_df[0].iloc[j]- a[i]) / b[i] \n",
    "    three_sigma['150'].iloc[j]= (QC_df[1].iloc[j]- a[i]) / b[i] \n",
    "    three_sigma['600'].iloc[j]= (QC_df[2].iloc[j]- a[i]) / b[i] \n",
    "    \n",
    "    if ((three_sigma['20'].iloc[j]>UCL_20)|(three_sigma['20'].iloc[j]<LCL_20)|(three_sigma['150'].iloc[j]>UCL_150)|(three_sigma['150'].iloc[j]<LCL_150)|(three_sigma['600'].iloc[j]>UCL_600)|(three_sigma['600'].iloc[j]<LCL_600)):\n",
    "        i+=1\n",
    "        reject_three_sigma['20'].iloc[j] = three_sigma['20'].iloc[j]\n",
    "        reject_three_sigma['150'].iloc[j] = three_sigma['150'].iloc[j]\n",
    "        reject_three_sigma['600'].iloc[j] = three_sigma['600'].iloc[j]\n",
    "\n",
    "mean_20_threesig = np.mean(three_sigma['20'])\n",
    "sd_20_threesig = np.std(three_sigma['20'])\n",
    "cv_20_threesig = sd_20_threesig / mean_20_threesig\n",
    "\n",
    "mean_150_threesig = np.mean(three_sigma['150'])\n",
    "sd_150_threesig = np.std(three_sigma['150'])\n",
    "cv_150_threesig = sd_150_threesig / mean_150_threesig\n",
    "\n",
    "mean_600_threesig = np.mean(three_sigma['600'])\n",
    "sd_600_threesig = np.std(three_sigma['600'])\n",
    "cv_600_threesig = sd_600_threesig / mean_600_threesig\n"
   ]
  },
  {
   "cell_type": "code",
   "execution_count": null,
   "id": "93a97657",
   "metadata": {},
   "outputs": [],
   "source": [
    "three_sigma[150:200]"
   ]
  },
  {
   "cell_type": "code",
   "execution_count": null,
   "id": "165440ee",
   "metadata": {},
   "outputs": [],
   "source": [
    "import matplotlib.pyplot as plt\n",
    "\n",
    "fig, ax = plt.subplots(figsize = (10, 6))\n",
    "plt.plot(three_sigma['20'], linestyle='-', marker='o', color='blue')\n",
    "plt.plot(reject_three_sigma['20'], linestyle='', marker='o', color='red')\n",
    "plt.axhline(y=sample_x_bar_20, color=\"black\", linestyle=\"-\")\n",
    "plt.axhline(y=UCL_20, color=\"red\", linestyle=\"--\")\n",
    "plt.axhline(y=LCL_20, color=\"red\", linestyle=\"--\")\n",
    "\n",
    "# plt.xlim(100,200)\n",
    "# plt.ylim(30,90)\n",
    "left, right = ax.get_xlim()\n",
    "ax.text(right + 0.3, UCL_20, \"UCL = \" + str(\"{:.2f}\".format(UCL_20)), color='red')\n",
    "ax.text(right + 0.3, sample_x_bar_20, r'$\\bar{x}$' + \" = \" + str(\"{:.2f}\".format(sample_x_bar_20)), color='green')\n",
    "ax.text(right + 0.3, LCL_20, \"LCL = \" + str(\"{:.2f}\".format(LCL_20)), color='red')\n",
    "cv_20_threesig"
   ]
  },
  {
   "cell_type": "code",
   "execution_count": null,
   "id": "9e469030",
   "metadata": {},
   "outputs": [],
   "source": [
    "fig, ax = plt.subplots(figsize = (10, 6))\n",
    "plt.plot(three_sigma['150'], linestyle='-', marker='o', color='blue')\n",
    "plt.plot(reject_three_sigma['150'], linestyle='', marker='o', color='red')\n",
    "plt.axhline(y=sample_x_bar_150, color=\"black\", linestyle=\"-\")\n",
    "plt.axhline(y=UCL_150, color=\"red\", linestyle=\"--\")\n",
    "plt.axhline(y=LCL_150, color=\"red\", linestyle=\"--\")\n",
    "\n",
    "# plt.xlim(100,200)\n",
    "# plt.ylim(350,500)\n",
    "left, right = ax.get_xlim()\n",
    "ax.text(right + 0.3, UCL_150, \"UCL = \" + str(\"{:.2f}\".format(UCL_150)), color='red')\n",
    "ax.text(right + 0.3, sample_x_bar_150, r'$\\bar{x}$' + \" = \" + str(\"{:.2f}\".format(sample_x_bar_150)), color='green')\n",
    "ax.text(right + 0.3, LCL_150, \"LCL = \" + str(\"{:.2f}\".format(LCL_150)), color='red')\n",
    "cv_150_threesig"
   ]
  },
  {
   "cell_type": "code",
   "execution_count": null,
   "id": "d6d81a5d",
   "metadata": {},
   "outputs": [],
   "source": [
    "fig, ax = plt.subplots(figsize = (10, 6))\n",
    "plt.plot(three_sigma['600'], linestyle='-', marker='o', color='blue')\n",
    "plt.plot(reject_three_sigma['600'], linestyle='', marker='o', color='red')\n",
    "plt.axhline(y=sample_x_bar_600, color=\"black\", linestyle=\"-\")\n",
    "plt.axhline(y=UCL_600, color=\"red\", linestyle=\"--\")\n",
    "plt.axhline(y=LCL_600, color=\"red\", linestyle=\"--\")\n",
    "\n",
    "# plt.xlim(100,200)\n",
    "# plt.ylim(1600,2100)\n",
    "left, right = ax.get_xlim()\n",
    "ax.text(right + 0.3, UCL_600, \"UCL = \" + str(\"{:.2f}\".format(UCL_600)), color='red')\n",
    "ax.text(right + 0.3, sample_x_bar_600, r'$\\bar{x}$' + \" = \" + str(\"{:.2f}\".format(sample_x_bar_600)), color='green')\n",
    "ax.text(right + 0.3, LCL_600, \"LCL = \" + str(\"{:.2f}\".format(LCL_600)), color='red')\n",
    "cv_600_threesig"
   ]
  },
  {
   "cell_type": "code",
   "execution_count": 17,
   "id": "167a0505",
   "metadata": {},
   "outputs": [
    {
     "data": {
      "text/plain": [
       "0.027552303918719448"
      ]
     },
     "execution_count": 17,
     "metadata": {},
     "output_type": "execute_result"
    },
    {
     "data": {
      "image/png": "[encoded data removed]",
      "text/plain": [
       "<Figure size 720x432 with 1 Axes>"
      ]
     },
     "metadata": {
      "needs_background": "light"
     },
     "output_type": "display_data"
    }
   ],
   "source": [
    "#do for 150 and 600 individually show CV of each 60,450,1800 \n",
    "CV_value_stdev = [mean_cv, mean_cv2, mean_cv3]\n",
    "\n",
    "testRun = 10000\n",
    "# Create a sample dataset\n",
    "sample_dataset = QC_df[0]\n",
    "\n",
    "# Create a list to store the sample groups means\n",
    "sample_x_bar = sample_mean_array[0]\n",
    "\n",
    "# Create a list to store the sample groups standard deviations\n",
    "sample_stddev = sample_mean_array[0] * CV_value_stdev[0] #Find mean_cv of the 20 range of 5,10,15\n",
    "\n",
    "UCL = sample_x_bar + 2 * sample_stddev\n",
    "LCL = sample_x_bar - 2 * sample_stddev\n",
    "reject_two_sigma = pd.DataFrame(index = range(testRun), columns = ['20'])\n",
    "two_sigma = pd.DataFrame(index=range(testRun),columns=('a', 'b', '20'))\n",
    "i = 0\n",
    "for j in range(0,testRun):\n",
    "    two_sigma['a'].iloc[j]=a[i]\n",
    "    two_sigma['b'].iloc[j]=b[i]\n",
    "    two_sigma['20'].iloc[j]= (QC_df[0].iloc[j]- a[i]) / b[i] \n",
    "    if ((two_sigma['20'].iloc[j]>UCL)|(two_sigma['20'].iloc[j]<LCL)):\n",
    "        i+=1\n",
    "        reject_two_sigma['20'].iloc[j] = two_sigma['20'].iloc[j]\n",
    "        \n",
    "mean_20_twosig = np.mean(two_sigma['20'])\n",
    "sd_20_twosig = np.std(two_sigma['20'])\n",
    "cv_20_twosig = sd_20_twosig / mean_20_twosig\n",
    "\n",
    "         \n",
    "\n",
    "    \n",
    "fig, ax = plt.subplots(figsize = (10, 6))\n",
    "plt.plot(two_sigma['20'], linestyle='-', marker='o', color='blue')\n",
    "plt.plot(reject_two_sigma['20'], linestyle='', marker='o', color='red')\n",
    "plt.axhline(y=sample_x_bar, color=\"black\", linestyle=\"-\")\n",
    "plt.axhline(y=UCL, color=\"red\", linestyle=\"--\")\n",
    "plt.axhline(y=LCL, color=\"red\", linestyle=\"--\")\n",
    "\n",
    "# plt.xlim(0,300)\n",
    "# plt.ylim(30,90)\n",
    "left, right = ax.get_xlim()\n",
    "ax.text(right + 0.3, UCL, \"UCL = \" + str(\"{:.2f}\".format(UCL)), color='red')\n",
    "ax.text(right + 0.3, sample_x_bar, r'$\\bar{x}$' + \" = \" + str(\"{:.2f}\".format(sample_x_bar)), color='green')\n",
    "ax.text(right + 0.3, LCL, \"LCL = \" + str(\"{:.2f}\".format(LCL)), color='red')\n",
    "cv_20_twosig"
   ]
  },
  {
   "cell_type": "code",
   "execution_count": 28,
   "id": "685259f1",
   "metadata": {},
   "outputs": [
    {
     "data": {
      "text/plain": [
       "0.03201061340069186"
      ]
     },
     "execution_count": 28,
     "metadata": {},
     "output_type": "execute_result"
    },
    {
     "data": {
      "image/png": "[encoded data removed]",
      "text/plain": [
       "<Figure size 720x432 with 1 Axes>"
      ]
     },
     "metadata": {
      "needs_background": "light"
     },
     "output_type": "display_data"
    }
   ],
   "source": [
    "#do for 150 and 600 individually show CV of each 60,450,1800 \n",
    "testRun = 10000\n",
    "\n",
    "# Create a sample dataset\n",
    "sample_dataset = QC_df[1]\n",
    "\n",
    "# Create a list to store the sample groups means\n",
    "sample_x_bar = sample_mean_array[1]\n",
    "\n",
    "# Create a list to store the sample groups standard deviations\n",
    "sample_stddev = sample_mean_array[1] * CV_value_stdev[1]\n",
    "\n",
    "UCL = sample_x_bar + 2 * sample_stddev\n",
    "LCL = sample_x_bar - 2 * sample_stddev\n",
    "reject_two_sigma = pd.DataFrame(index = range(testRun), columns = ['150'])\n",
    "two_sigma = pd.DataFrame(index=range(testRun),columns=('a', 'b', '150'))\n",
    "i = 0\n",
    "for j in range(0,testRun):\n",
    "    two_sigma['a'].iloc[j]=a[i]\n",
    "    two_sigma['b'].iloc[j]=b[i]\n",
    "    two_sigma['150'].iloc[j]= (QC_df[1].iloc[j]- a[i]) / b[i] \n",
    "    if ((two_sigma['150'].iloc[j]>UCL)|(two_sigma['150'].iloc[j]<LCL)):\n",
    "        i+=1\n",
    "        reject_two_sigma['150'].iloc[j] = two_sigma['150'].iloc[j]\n",
    "        \n",
    "mean_150_twosig = np.mean(two_sigma['150'])\n",
    "sd_150_twosig = np.std(two_sigma['150'])\n",
    "cv_150_twosig = sd_150_twosig / mean_150_twosig\n",
    "\n",
    "         \n",
    "\n",
    "    \n",
    "fig, ax = plt.subplots(figsize = (10, 6))\n",
    "plt.plot(two_sigma['150'], linestyle='-', marker='o', color='blue')\n",
    "plt.plot(reject_two_sigma['150'], linestyle='', marker='o', color='red')\n",
    "plt.axhline(y=sample_x_bar, color=\"black\", linestyle=\"-\")\n",
    "plt.axhline(y=UCL, color=\"red\", linestyle=\"--\")\n",
    "plt.axhline(y=LCL, color=\"red\", linestyle=\"--\")\n",
    "\n",
    "# plt.xlim(2500,2700)\n",
    "# plt.ylim(350,500)\n",
    "left, right = ax.get_xlim()\n",
    "ax.text(right + 0.3, UCL, \"UCL = \" + str(\"{:.2f}\".format(UCL)), color='red')\n",
    "ax.text(right + 0.3, sample_x_bar, r'$\\bar{x}$' + \" = \" + str(\"{:.2f}\".format(sample_x_bar)), color='green')\n",
    "ax.text(right + 0.3, LCL, \"LCL = \" + str(\"{:.2f}\".format(LCL)), color='red')\n",
    "cv_150_twosig"
   ]
  },
  {
   "cell_type": "code",
   "execution_count": 26,
   "id": "ff314f51",
   "metadata": {},
   "outputs": [
    {
     "data": {
      "text/plain": [
       "0.033069754269867094"
      ]
     },
     "execution_count": 26,
     "metadata": {},
     "output_type": "execute_result"
    },
    {
     "data": {
      "image/png": "[encoded data removed]",
      "text/plain": [
       "<Figure size 720x432 with 1 Axes>"
      ]
     },
     "metadata": {
      "needs_background": "light"
     },
     "output_type": "display_data"
    }
   ],
   "source": [
    "#do for 150 and 600 individually show CV of each 60,450,1800 \n",
    "testRun = 10000\n",
    "# Set standard deviation for control line\n",
    " \n",
    "# Create a sample dataset\n",
    "sample_dataset = QC_df[2]\n",
    "\n",
    "# Create a list to store the sample groups means\n",
    "sample_x_bar = sample_mean_array[2]\n",
    "\n",
    "# Create a list to store the sample groups standard deviations\n",
    "sample_stddev = sample_mean_array[2] * CV_value_stdev[2]#Find mean_cv of the 20 range of 5,10,15\n",
    "\n",
    "UCL = sample_x_bar + 2 * sample_stddev\n",
    "LCL = sample_x_bar - 2 * sample_stddev\n",
    "reject_two_sigma = pd.DataFrame(index = range(testRun), columns = ['600'])\n",
    "two_sigma = pd.DataFrame(index=range(testRun),columns=('a', 'b', '600'))\n",
    "i = 0\n",
    "for j in range(0,testRun):\n",
    "    two_sigma['a'].iloc[j]=a[i]\n",
    "    two_sigma['b'].iloc[j]=b[i]\n",
    "    two_sigma['600'].iloc[j]= (QC_df[2].iloc[j]- a[i]) / b[i] \n",
    "    if ((two_sigma['600'].iloc[j]>UCL)|(two_sigma['600'].iloc[j]<LCL)):\n",
    "        i+=1\n",
    "        reject_two_sigma['600'].iloc[j] = two_sigma['600'].iloc[j]\n",
    "        \n",
    "mean_600_twosig = np.mean(two_sigma['600'])\n",
    "sd_600_twosig = np.std(two_sigma['600'])\n",
    "cv_600_twosig = sd_600_twosig / mean_600_twosig\n",
    "\n",
    "\n",
    "fig, ax = plt.subplots(figsize = (10, 6))\n",
    "plt.plot(two_sigma['600'], linestyle='-', marker='o', color='blue')\n",
    "plt.plot(reject_two_sigma['600'], linestyle='', marker='o', color='red')\n",
    "plt.axhline(y=sample_x_bar, color=\"black\", linestyle=\"-\")\n",
    "plt.axhline(y=UCL, color=\"red\", linestyle=\"--\")\n",
    "plt.axhline(y=LCL, color=\"red\", linestyle=\"--\")\n",
    "\n",
    "\n",
    "# plt.xlim(6100,6350)\n",
    "# plt.ylim(1600,2100)\n",
    "left, right = ax.get_xlim()\n",
    "ax.text(right + 0.3, UCL, \"UCL = \" + str(\"{:.2f}\".format(UCL)), color='red')\n",
    "ax.text(right + 0.3, sample_x_bar, r'$\\bar{x}$' + \" = \" + str(\"{:.2f}\".format(sample_x_bar)), color='green')\n",
    "ax.text(right + 0.3, LCL, \"LCL = \" + str(\"{:.2f}\".format(LCL)), color='red')\n",
    "cv_600_twosig"
   ]
  },
  {
   "cell_type": "code",
   "execution_count": null,
   "id": "e85f4c27",
   "metadata": {},
   "outputs": [],
   "source": [
    "testRun = 10000\n",
    "CV_value_stdev = [mean_cv, mean_cv2, mean_cv3]\n",
    "\n",
    "\n",
    "# Create a sample dataset\n",
    "sample_dataset = QC_df\n",
    "\n",
    "# Create a list to store the sample groups means\n",
    "sample_x_bar_20 = 20\n",
    "sample_x_bar_150 = 150\n",
    "sample_x_bar_600 = 600\n",
    "\n",
    "# Create a list to store the sample groups standard deviations\n",
    "sample_stddev_20 = sample_x_bar_20 * CV_value_stdev[0] #Find mean_cv of the 20 range of 5,10,15\n",
    "sample_stddev_150 = sample_x_bar_150 * CV_value_stdev[1] #Find mean_cv of the 20 range of 5,10,15\n",
    "sample_stddev_600 = sample_x_bar_600 * CV_value_stdev[2] #Find mean_cv of the 20 range of 5,10,15\n",
    "\n",
    "UCL_20 = sample_x_bar_20 + 2 * sample_stddev_20\n",
    "UCL_150 = sample_x_bar_150 + 2 * sample_stddev_150\n",
    "UCL_600 = sample_x_bar_600 + 2 * sample_stddev_600\n",
    "    \n",
    "LCL_20 = sample_x_bar_20 - 2 * sample_stddev_20\n",
    "LCL_150 = sample_x_bar_150 - 2 * sample_stddev_150\n",
    "LCL_600 = sample_x_bar_600 - 2 * sample_stddev_600\n",
    "\n",
    "reject_two_sigma = pd.DataFrame(index = range(testRun), columns = ('20','150','600'))\n",
    "two_sigma = pd.DataFrame(index=range(testRun),columns=('a', 'b', '20','150','600'))\n",
    "i = 0\n",
    "for j in range(0,testRun):\n",
    "    two_sigma['a'].iloc[j]=a[i]\n",
    "    two_sigma['b'].iloc[j]=b[i]\n",
    "    two_sigma['20'].iloc[j]= (QC_df[0].iloc[j]- a[i]) / b[i] \n",
    "    two_sigma['150'].iloc[j]= (QC_df[1].iloc[j]- a[i]) / b[i] \n",
    "    two_sigma['600'].iloc[j]= (QC_df[2].iloc[j]- a[i]) / b[i] \n",
    "    \n",
    "    if ((two_sigma['20'].iloc[j]>UCL_20)|(two_sigma['20'].iloc[j]<LCL_20)|(two_sigma['150'].iloc[j]>UCL_150)|(two_sigma['150'].iloc[j]<LCL_150)|(two_sigma['600'].iloc[j]>UCL_600)|(two_sigma['600'].iloc[j]<LCL_600)):\n",
    "        i+=1\n",
    "        reject_two_sigma['20'].iloc[j] = two_sigma['20'].iloc[j]\n",
    "        reject_two_sigma['150'].iloc[j] = two_sigma['150'].iloc[j]\n",
    "        reject_two_sigma['600'].iloc[j] = two_sigma['600'].iloc[j]\n",
    "\n",
    "mean_20_twosig = np.mean(two_sigma['20'])\n",
    "sd_20_twosig = np.std(two_sigma['20'])\n",
    "cv_20_twosig = sd_20_twosig / mean_20_twosig\n",
    "\n",
    "mean_150_twosig = np.mean(two_sigma['150'])\n",
    "sd_150_twosig = np.std(two_sigma['150'])\n",
    "cv_150_twosig = sd_150_twosig / mean_150_twosig\n",
    "\n",
    "mean_600_twosig = np.mean(two_sigma['600'])\n",
    "sd_600_twosig = np.std(two_sigma['600'])\n",
    "cv_600_twosig = sd_600_twosig / mean_600_twosig\n"
   ]
  },
  {
   "cell_type": "code",
   "execution_count": null,
   "id": "d0cbddec",
   "metadata": {},
   "outputs": [],
   "source": [
    "fig, ax = plt.subplots(figsize = (10, 6))\n",
    "plt.plot(two_sigma['20'], linestyle='-', marker='o', color='blue')\n",
    "plt.plot(reject_two_sigma['20'], linestyle='', marker='o', color='red')\n",
    "plt.axhline(y=sample_x_bar_20, color=\"black\", linestyle=\"-\")\n",
    "plt.axhline(y=UCL_20, color=\"red\", linestyle=\"--\")\n",
    "plt.axhline(y=LCL_20, color=\"red\", linestyle=\"--\")\n",
    "\n",
    "plt.xlim(100,200)\n",
    "plt.ylim(30,90)\n",
    "left, right = ax.get_xlim()\n",
    "ax.text(right + 0.3, UCL_20, \"UCL = \" + str(\"{:.2f}\".format(UCL_20)), color='red')\n",
    "ax.text(right + 0.3, sample_x_bar_20, r'$\\bar{x}$' + \" = \" + str(\"{:.2f}\".format(sample_x_bar_20)), color='green')\n",
    "ax.text(right + 0.3, LCL_20, \"LCL = \" + str(\"{:.2f}\".format(LCL_20)), color='red')\n",
    "cv_20_twosig"
   ]
  },
  {
   "cell_type": "code",
   "execution_count": null,
   "id": "b8f6794c",
   "metadata": {},
   "outputs": [],
   "source": [
    "fig, ax = plt.subplots(figsize = (10, 6))\n",
    "plt.plot(two_sigma['150'], linestyle='-', marker='o', color='blue')\n",
    "plt.plot(reject_two_sigma['150'], linestyle='', marker='o', color='red')\n",
    "plt.axhline(y=sample_x_bar_150, color=\"black\", linestyle=\"-\")\n",
    "plt.axhline(y=UCL_150, color=\"red\", linestyle=\"--\")\n",
    "plt.axhline(y=LCL_150, color=\"red\", linestyle=\"--\")\n",
    "\n",
    "plt.xlim(100,200)\n",
    "plt.ylim(350,500)\n",
    "left, right = ax.get_xlim()\n",
    "ax.text(right + 0.3, UCL_150, \"UCL = \" + str(\"{:.2f}\".format(UCL_150)), color='red')\n",
    "ax.text(right + 0.3, sample_x_bar_150, r'$\\bar{x}$' + \" = \" + str(\"{:.2f}\".format(sample_x_bar_150)), color='green')\n",
    "ax.text(right + 0.3, LCL_150, \"LCL = \" + str(\"{:.2f}\".format(LCL_150)), color='red')\n",
    "cv_150_twosig"
   ]
  },
  {
   "cell_type": "code",
   "execution_count": null,
   "id": "de1eae05",
   "metadata": {},
   "outputs": [],
   "source": [
    "fig, ax = plt.subplots(figsize = (10, 6))\n",
    "plt.plot(two_sigma['600'], linestyle='-', marker='o', color='blue')\n",
    "plt.plot(reject_two_sigma['600'], linestyle='', marker='o', color='red')\n",
    "plt.axhline(y=sample_x_bar_600, color=\"black\", linestyle=\"-\")\n",
    "plt.axhline(y=UCL_600, color=\"red\", linestyle=\"--\")\n",
    "plt.axhline(y=LCL_600, color=\"red\", linestyle=\"--\")\n",
    "\n",
    "plt.xlim(100,200)\n",
    "plt.ylim(1600,2100)\n",
    "left, right = ax.get_xlim()\n",
    "ax.text(right + 0.3, UCL_600, \"UCL = \" + str(\"{:.2f}\".format(UCL_600)), color='red')\n",
    "ax.text(right + 0.3, sample_x_bar_600, r'$\\bar{x}$' + \" = \" + str(\"{:.2f}\".format(sample_x_bar_600)), color='green')\n",
    "ax.text(right + 0.3, LCL_600, \"LCL = \" + str(\"{:.2f}\".format(LCL_600)), color='red')\n",
    "cv_600_twosig"
   ]
  },
  {
   "cell_type": "code",
   "execution_count": 20,
   "id": "0b2e97b0",
   "metadata": {},
   "outputs": [
    {
     "data": {
      "text/plain": [
       "0.027552303918719448"
      ]
     },
     "execution_count": 20,
     "metadata": {},
     "output_type": "execute_result"
    },
    {
     "data": {
      "image/png": "[encoded data removed]",
      "text/plain": [
       "<Figure size 720x432 with 1 Axes>"
      ]
     },
     "metadata": {
      "needs_background": "light"
     },
     "output_type": "display_data"
    }
   ],
   "source": [
    "import matplotlib.pyplot as plt #Change to 2:2s and R:4s change truth logic\n",
    "\n",
    "#do for 20 and 600 individually show CV of each 60,450,1800 \n",
    "testRun = 10000\n",
    "CV_value_stdev = [mean_cv, mean_cv2, mean_cv3]\n",
    "# Create a sample dataset\n",
    "sample_dataset = QC_df[0]\n",
    "\n",
    "# Create a list to store the sample groups means\n",
    "sample_x_bar = sample_mean_array[0]\n",
    "\n",
    "# Create a list to store the sample groups standard deviations\n",
    "sample_stddev =  sample_x_bar * CV_value_stdev[0] #Find mean_cv of the 20 range of 5,10,15\n",
    "\n",
    "UCL = sample_x_bar + 2 * sample_stddev\n",
    "LCL = sample_x_bar - 2 * sample_stddev\n",
    "reject_two_two_sigma = pd.DataFrame(index = range(testRun), columns = ['20'])\n",
    "two_two_sigma = pd.DataFrame(index=range(testRun),columns=('a', 'b', '20'))\n",
    "i = 0\n",
    "for j in range(0,testRun):\n",
    "    two_two_sigma['a'].iloc[j]=a[i]\n",
    "    two_two_sigma['b'].iloc[j]=b[i]\n",
    "    two_two_sigma['20'].iloc[j]= (QC_df[0].iloc[j]- a[i]) / b[i] \n",
    "    if j >1:\n",
    "        if ((abs(two_two_sigma['20'].iloc[j-1]-sample_x_bar))>(UCL-sample_x_bar) and (abs(two_two_sigma['20'].iloc[j]-sample_x_bar))>(UCL-sample_x_bar)):\n",
    "            i+=1\n",
    "            reject_two_two_sigma['20'].iloc[j] = two_two_sigma['20'].iloc[j]\n",
    "        \n",
    "mean_20_two_twosig = np.mean(two_two_sigma['20'])\n",
    "sd_20_two_twosig = np.std(two_two_sigma['20'])\n",
    "cv_20_two_twosig = sd_20_two_twosig / mean_20_two_twosig\n",
    "\n",
    "         \n",
    "\n",
    "    \n",
    "fig, ax = plt.subplots(figsize = (10, 6))\n",
    "plt.plot(two_two_sigma['20'], linestyle='-', marker='o', color='blue')\n",
    "plt.plot(reject_two_two_sigma['20'], linestyle='', marker='o', color='red')\n",
    "plt.axhline(y=sample_x_bar, color=\"black\", linestyle=\"-\")\n",
    "plt.axhline(y=UCL, color=\"red\", linestyle=\"--\")\n",
    "plt.axhline(y=LCL, color=\"red\", linestyle=\"--\")\n",
    "\n",
    "# plt.xlim(100,125)\n",
    "# plt.ylim(135,170)\n",
    "left, right = ax.get_xlim()\n",
    "ax.text(right + 0.3, UCL, \"UCL = \" + str(\"{:.2f}\".format(UCL)), color='red')\n",
    "ax.text(right + 0.3, sample_x_bar, r'$\\bar{x}$' + \" = \" + str(\"{:.2f}\".format(sample_x_bar)), color='green')\n",
    "ax.text(right + 0.3, LCL, \"LCL = \" + str(\"{:.2f}\".format(LCL)), color='red')\n",
    "cv_20_two_twosig"
   ]
  },
  {
   "cell_type": "code",
   "execution_count": 24,
   "id": "7f4adebe",
   "metadata": {},
   "outputs": [
    {
     "data": {
      "text/plain": [
       "0.03204013747088828"
      ]
     },
     "execution_count": 24,
     "metadata": {},
     "output_type": "execute_result"
    },
    {
     "data": {
      "image/png": "[encoded data removed]",
      "text/plain": [
       "<Figure size 720x432 with 1 Axes>"
      ]
     },
     "metadata": {
      "needs_background": "light"
     },
     "output_type": "display_data"
    }
   ],
   "source": [
    "import matplotlib.pyplot as plt\n",
    "\n",
    "#do for 150 and 600 individually show CV of each 60,450,1800 \n",
    "testRun = 10000\n",
    "CV_value_stdev = [mean_cv, mean_cv2, mean_cv3]\n",
    "# Create a sample dataset\n",
    "sample_dataset = QC_df[1]\n",
    "\n",
    "# Create a list to store the sample groups means\n",
    "sample_x_bar = sample_mean_array[1]\n",
    "\n",
    "# Create a list to store the sample groups standard deviations\n",
    "sample_stddev =  sample_x_bar * CV_value_stdev[1] #Find mean_cv of the 150 range of 5,10,15\n",
    "\n",
    "UCL = sample_x_bar + 2 * sample_stddev\n",
    "LCL = sample_x_bar - 2 * sample_stddev\n",
    "reject_two_two_sigma = pd.DataFrame(index = range(testRun), columns = ['150'])\n",
    "two_two_sigma = pd.DataFrame(index=range(testRun),columns=('a', 'b', '150'))\n",
    "i = 0\n",
    "for j in range(0,testRun):\n",
    "    two_two_sigma['a'].iloc[j]=a[i]\n",
    "    two_two_sigma['b'].iloc[j]=b[i]\n",
    "    two_two_sigma['150'].iloc[j]= (QC_df[1].iloc[j]- a[i]) / b[i] \n",
    "    if j >1:\n",
    "        if ((abs(two_two_sigma['150'].iloc[j-1]-sample_x_bar))>(UCL-sample_x_bar) and (abs(two_two_sigma['150'].iloc[j]-sample_x_bar))>(UCL-sample_x_bar)):\n",
    "            i+=1\n",
    "            reject_two_two_sigma['150'].iloc[j] = two_two_sigma['150'].iloc[j]\n",
    "        \n",
    "mean_150_two_twosig = np.mean(two_two_sigma['150'])\n",
    "sd_150_two_twosig = np.std(two_two_sigma['150'])\n",
    "cv_150_two_twosig = sd_150_two_twosig / mean_150_two_twosig\n",
    "\n",
    "         \n",
    "\n",
    "    \n",
    "fig, ax = plt.subplots(figsize = (10, 6))\n",
    "plt.plot(two_two_sigma['150'], linestyle='-', marker='o', color='blue')\n",
    "plt.plot(reject_two_two_sigma['150'], linestyle='', marker='o', color='red')\n",
    "plt.axhline(y=sample_x_bar, color=\"black\", linestyle=\"-\")\n",
    "plt.axhline(y=UCL, color=\"red\", linestyle=\"--\")\n",
    "plt.axhline(y=LCL, color=\"red\", linestyle=\"--\")\n",
    "\n",
    "# plt.xlim(5390,5500)\n",
    "# plt.ylim(135,170)\n",
    "left, right = ax.get_xlim()\n",
    "ax.text(right + 0.3, UCL, \"UCL = \" + str(\"{:.2f}\".format(UCL)), color='red')\n",
    "ax.text(right + 0.3, sample_x_bar, r'$\\bar{x}$' + \" = \" + str(\"{:.2f}\".format(sample_x_bar)), color='green')\n",
    "ax.text(right + 0.3, LCL, \"LCL = \" + str(\"{:.2f}\".format(LCL)), color='red')\n",
    "cv_150_two_twosig"
   ]
  },
  {
   "cell_type": "code",
   "execution_count": 34,
   "id": "1cf4fd46",
   "metadata": {
    "scrolled": false
   },
   "outputs": [
    {
     "data": {
      "text/plain": [
       "0.02979223767948564"
      ]
     },
     "execution_count": 34,
     "metadata": {},
     "output_type": "execute_result"
    },
    {
     "data": {
      "image/png": "[encoded data removed]",
      "text/plain": [
       "<Figure size 720x432 with 1 Axes>"
      ]
     },
     "metadata": {
      "needs_background": "light"
     },
     "output_type": "display_data"
    }
   ],
   "source": [
    "import matplotlib.pyplot as plt\n",
    "\n",
    "#do for 600 and 600 individually show CV of each 60,450,1800 \n",
    "testRun = 10000\n",
    "CV_value_stdev = [mean_cv, mean_cv2, mean_cv3]\n",
    "# Create a sample dataset\n",
    "sample_dataset = QC_df[2]\n",
    "\n",
    "# Create a list to store the sample groups means\n",
    "sample_x_bar = sample_mean_array[2]\n",
    "\n",
    "# Create a list to store the sample groups standard deviations\n",
    "sample_stddev =  sample_x_bar * CV_value_stdev[2] #Find mean_cv of the 600 range of 5,10,15\n",
    "\n",
    "UCL = sample_x_bar + 2 * sample_stddev\n",
    "LCL = sample_x_bar - 2 * sample_stddev\n",
    "reject_two_two_sigma = pd.DataFrame(index = range(testRun), columns = ['600'])\n",
    "two_two_sigma = pd.DataFrame(index=range(testRun),columns=('a', 'b', '600'))\n",
    "i = 0\n",
    "for j in range(0,testRun):\n",
    "    two_two_sigma['a'].iloc[j]=a[i]\n",
    "    two_two_sigma['b'].iloc[j]=b[i]\n",
    "    two_two_sigma['600'].iloc[j]= (QC_df[2].iloc[j]- a[i]) / b[i] \n",
    "    if j >1:\n",
    "        if ((abs(two_two_sigma['600'].iloc[j-1]-sample_x_bar))>(UCL-sample_x_bar) and (abs(two_two_sigma['600'].iloc[j]-sample_x_bar))>(UCL-sample_x_bar)):\n",
    "            i+=1\n",
    "            reject_two_two_sigma['600'].iloc[j] = two_two_sigma['600'].iloc[j]\n",
    "        \n",
    "mean_600_two_twosig = np.mean(two_two_sigma['600'])\n",
    "sd_600_two_twosig = np.std(two_two_sigma['600'])\n",
    "cv_600_two_twosig = sd_600_two_twosig / mean_600_two_twosig\n",
    "\n",
    "         \n",
    "\n",
    "    \n",
    "fig, ax = plt.subplots(figsize = (10, 6))\n",
    "plt.plot(two_two_sigma['600'], linestyle='-', marker='o', color='blue')\n",
    "plt.plot(reject_two_two_sigma['600'], linestyle='', marker='o', color='red')\n",
    "plt.axhline(y=sample_x_bar, color=\"black\", linestyle=\"-\")\n",
    "plt.axhline(y=UCL, color=\"red\", linestyle=\"--\")\n",
    "plt.axhline(y=LCL, color=\"red\", linestyle=\"--\")\n",
    "\n",
    "# plt.xlim(100,125)\n",
    "# plt.ylim(135,170)\n",
    "left, right = ax.get_xlim()\n",
    "ax.text(right + 0.3, UCL, \"UCL = \" + str(\"{:.2f}\".format(UCL)), color='red')\n",
    "ax.text(right + 0.3, sample_x_bar, r'$\\bar{x}$' + \" = \" + str(\"{:.2f}\".format(sample_x_bar)), color='green')\n",
    "ax.text(right + 0.3, LCL, \"LCL = \" + str(\"{:.2f}\".format(LCL)), color='red')\n",
    "cv_600_two_twosig"
   ]
  },
  {
   "cell_type": "code",
   "execution_count": null,
   "id": "faced5b0",
   "metadata": {},
   "outputs": [],
   "source": [
    "import matplotlib.pyplot as plt\n",
    "\n",
    "#do for 20 and 600 individually show CV of each 60,450,1800 \n",
    "testRun = 10000\n",
    "CV_value_stdev = [mean_cv, mean_cv2, mean_cv3]\n",
    "# Create a sample dataset\n",
    "sample_dataset = QC_df[0]\n",
    "\n",
    "# Create a list to store the sample groups means\n",
    "sample_x_bar = sample_mean_array[0]\n",
    "\n",
    "# Create a list to store the sample groups standard deviations\n",
    "sample_stddev =  sample_x_bar * CV_value_stdev[0] #Find mean_cv of the 20 range of 5,10,15\n",
    "\n",
    "UCL = sample_x_bar + 2 * sample_stddev\n",
    "LCL = sample_x_bar - 2 * sample_stddev\n",
    "reject_two_two_sigma = pd.DataFrame(index = range(testRun), columns = ['20'])\n",
    "two_two_sigma = pd.DataFrame(index=range(testRun),columns=('a', 'b', '20'))\n",
    "i = 0\n",
    "for j in range(0,testRun):\n",
    "    two_two_sigma['a'].iloc[j]=a[i]\n",
    "    two_two_sigma['b'].iloc[j]=b[i]\n",
    "    two_two_sigma['20'].iloc[j]= (QC_df[0].iloc[j]- a[i]) / b[i] \n",
    "    if j >1:\n",
    "        if (two_two_sigma['20'].iloc[j-1]>UCL and two_two_sigma['20'].iloc[j]>UCL):\n",
    "            i+=1\n",
    "            reject_two_two_sigma['20'].iloc[j] = two_two_sigma['20'].iloc[j]\n",
    "        if (two_two_sigma['20'].iloc[j-1]<LCL and two_two_sigma['20'].iloc[j]<LCL):\n",
    "            i+=1\n",
    "            reject_two_two_sigma['20'].iloc[j] = two_two_sigma['20'].iloc[j]\n",
    "        \n",
    "mean_20_two_twosig = np.mean(two_two_sigma['20'])\n",
    "sd_20_two_twosig = np.std(two_two_sigma['20'])\n",
    "cv_20_two_twosig = sd_20_two_twosig / mean_20_two_twosig\n",
    "\n",
    "         \n",
    "\n",
    "    \n",
    "fig, ax = plt.subplots(figsize = (10, 6))\n",
    "plt.plot(two_two_sigma['20'], linestyle='-', marker='o', color='blue')\n",
    "plt.plot(reject_two_two_sigma['20'], linestyle='', marker='o', color='red')\n",
    "plt.axhline(y=sample_x_bar, color=\"black\", linestyle=\"-\")\n",
    "plt.axhline(y=UCL, color=\"red\", linestyle=\"--\")\n",
    "plt.axhline(y=LCL, color=\"red\", linestyle=\"--\")\n",
    "\n",
    "# plt.xlim(100,125)\n",
    "# plt.ylim(135,170)\n",
    "left, right = ax.get_xlim()\n",
    "ax.text(right + 0.3, UCL, \"UCL = \" + str(\"{:.2f}\".format(UCL)), color='red')\n",
    "ax.text(right + 0.3, sample_x_bar, r'$\\bar{x}$' + \" = \" + str(\"{:.2f}\".format(sample_x_bar)), color='green')\n",
    "ax.text(right + 0.3, LCL, \"LCL = \" + str(\"{:.2f}\".format(LCL)), color='red')\n",
    "cv_20_two_twosig"
   ]
  },
  {
   "cell_type": "code",
   "execution_count": null,
   "id": "881881c7",
   "metadata": {},
   "outputs": [],
   "source": [
    "std_b = np.std(b)\n",
    "sigma_b = abs(b - np.mean(b))\n",
    "sigma_b\n"
   ]
  },
  {
   "cell_type": "code",
   "execution_count": null,
   "id": "24592304",
   "metadata": {},
   "outputs": [],
   "source": [
    "Y_est = pd.DataFrame(index=range(Run),columns=range(N))\n",
    "for i in range(0,N):\n",
    "    Y_est[i] = a + b * X[i] #y-estimate\n",
    "Y_est.head()\n"
   ]
  },
  {
   "cell_type": "code",
   "execution_count": null,
   "id": "bad01de7",
   "metadata": {},
   "outputs": [],
   "source": [
    "SS_YY = pd.DataFrame(index=range(Run),columns=range(N))\n",
    "for i in range(0,N):\n",
    "    SS_YY[i] = (Y[i]-Y_est[i])**2\n",
    "SSYY_sum = SS_YY.sum(axis=1)\n",
    "SD_YX = (SSYY_sum/(N-2))**0.5 #SDYX value\n",
    "SD_YX[:10] "
   ]
  },
  {
   "cell_type": "code",
   "execution_count": null,
   "id": "37045d9e",
   "metadata": {},
   "outputs": [],
   "source": [
    "SE_b = SD_YX/(SSX_sum**0.5)\n",
    "SE_b[:10]"
   ]
  },
  {
   "cell_type": "code",
   "execution_count": null,
   "id": "fa971a5b",
   "metadata": {},
   "outputs": [],
   "source": [
    "SE_a =  SD_YX*(1/N + (sumX**2)/SSX_sum)**0.5\n",
    "SE_a[:10]"
   ]
  },
  {
   "cell_type": "code",
   "execution_count": null,
   "id": "f614384f",
   "metadata": {},
   "outputs": [],
   "source": [
    "from scipy.stats import t\n",
    "df = N-2\n",
    "alpha = 0.1\n",
    "t_crit = t.ppf(1.0 - alpha/2, df)\n",
    "t_crit"
   ]
  },
  {
   "cell_type": "code",
   "execution_count": null,
   "id": "4f12a39f",
   "metadata": {},
   "outputs": [],
   "source": [
    "Results['Reject slope b'] = 1*(abs(Results['b']-1)/SE_b>t_crit)\n",
    "Results['Reject intercept a'] = 1*(abs(Results['a'])/SE_a>t_crit)\n",
    "Results['Reject b or a'] = 1*((abs(Results['a'])/SE_a>t_crit)|(abs(Results['b']-1)/SE_b>t_crit))\n",
    "Rej_b = Results['Reject slope b'].sum()/Run\n",
    "Rej_b_dp = \"{:.2f}\".format(Rej_b)\n",
    "Rej_a = Results['Reject intercept a'].sum()/Run\n",
    "Rej_ab = Results['Reject b or a'].sum()/Run\n",
    "Rej_ab_dp = \"{:.2f}\".format(Rej_ab)\n",
    "Rej_a_dp = \"{:.2f}\".format(Rej_a) # Rejection rate based on intercept\n",
    "Rej_a_dp"
   ]
  },
  {
   "cell_type": "code",
   "execution_count": null,
   "id": "ae328965",
   "metadata": {},
   "outputs": [],
   "source": [
    "Rej_b_dp #Rejection rated based on Slope"
   ]
  },
  {
   "cell_type": "code",
   "execution_count": null,
   "id": "2465c3b8",
   "metadata": {},
   "outputs": [],
   "source": [
    "Rej_ab_dp # Rejection rate based on slope or intercept"
   ]
  },
  {
   "cell_type": "code",
   "execution_count": null,
   "id": "8be63b91",
   "metadata": {},
   "outputs": [],
   "source": [
    "Results[:10]"
   ]
  },
  {
   "cell_type": "code",
   "execution_count": 33,
   "id": "5e6227f5",
   "metadata": {},
   "outputs": [
    {
     "data": {
      "text/plain": [
       "8"
      ]
     },
     "execution_count": 33,
     "metadata": {},
     "output_type": "execute_result"
    }
   ],
   "source": [
    "i"
   ]
  },
  {
   "cell_type": "code",
   "execution_count": null,
   "id": "d79d103b",
   "metadata": {},
   "outputs": [],
   "source": []
  }
 ],
 "metadata": {
  "kernelspec": {
   "display_name": "Python 3",
   "language": "python",
   "name": "python3"
  },
  "language_info": {
   "codemirror_mode": {
    "name": "ipython",
    "version": 3
   },
   "file_extension": ".py",
   "mimetype": "text/x-python",
   "name": "python",
   "nbconvert_exporter": "python",
   "pygments_lexer": "ipython3",
   "version": "3.8.8"
  }
 },
 "nbformat": 4,
 "nbformat_minor": 5
}
